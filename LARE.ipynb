{
 "cells": [
  {
   "cell_type": "code",
   "execution_count": 1,
   "id": "2045c60a-7963-4a77-80a8-eae7cf02b52e",
   "metadata": {},
   "outputs": [],
   "source": [
    "from sklearn.datasets import load_digits\n",
    "from sklearn.manifold import TSNE\n",
    "import graphlearning as gl\n",
    "from sklearn.metrics.pairwise import pairwise_distances\n",
    "import numpy as np\n",
    "from scipy import sparse, linalg, stats\n",
    "from scipy.sparse.linalg import svds, aslinearoperator, LinearOperator\n",
    "import matplotlib.pyplot as plt\n",
    "from sklearn.datasets import fetch_openml\n",
    "import numpy as np\n",
    "import matplotlib.pyplot as plt\n",
    "from sklearn.decomposition import PCA\n",
    "import numpy as np\n",
    "from scipy.sparse import csr_matrix\n",
    "from sklearn.manifold import _utils\n",
    "from sklearn.manifold import _t_sne\n",
    "from sklearn.neighbors import NearestNeighbors\n",
    "from time import time"
   ]
  },
  {
   "cell_type": "code",
   "execution_count": 2,
   "id": "8d85d107-64e6-4b3e-867c-cd39271d9d0e",
   "metadata": {},
   "outputs": [],
   "source": [
    "n = 20000\n",
    "mnist = fetch_openml('mnist_784', version=1)\n",
    "X, y = mnist.data, mnist.target\n",
    "y = y.astype(int)\n",
    "y = np.array(y)\n",
    "X = np.array(X)\n",
    "pca = PCA(n_components=64)\n",
    "X = pca.fit_transform(X)\n",
    "X = X[:n,:]\n",
    "y = y[:n]"
   ]
  },
  {
   "cell_type": "code",
   "execution_count": null,
   "id": "d009b53a-f1fb-47e9-a433-993f134d6f57",
   "metadata": {},
   "outputs": [],
   "source": [
    "# graph construction\n",
    "desired_perplexity = 30.0\n",
    "n_neighbors = int(2)\n",
    "knn = NearestNeighbors(n_neighbors=n_neighbors, metric=\"euclidean\")\n",
    "knn.fit(X) # <---biggest bottleneck\n",
    "distances_nn = knn.kneighbors_graph(X, mode=\"distance\").astype(np.float32)\n",
    "verbose = 0\n",
    "P_matrix = _t_sne._joint_probabilities_nn(distances_nn, desired_perplexity, verbose) # <---super fast"
   ]
  },
  {
   "cell_type": "code",
   "execution_count": null,
   "id": "9f2c9fee-9a0c-4aaf-9429-53042a3eac11",
   "metadata": {},
   "outputs": [],
   "source": [
    "# find eigenfunctions (second biggest bottleneck)\n",
    "number_of_parameters = 200\n",
    "P = gl.graph(P_matrix)\n",
    "vals, vecs = P.eigen_decomp(k = number_of_parameters)"
   ]
  },
  {
   "cell_type": "code",
   "execution_count": null,
   "id": "75ad7d81-72b9-4ef3-9869-daf5f4c02a3b",
   "metadata": {},
   "outputs": [],
   "source": [
    "# find out the percent of faulty connections/optional\n",
    "distances, indices = knn.kneighbors(X)\n",
    "n_samples = X.shape[0]\n",
    "proportions = []\n",
    "for i in range(n_samples):\n",
    "    neighbor_indices = indices[i,:]\n",
    "    same_label_count = sum(y[neighbor_indices] == y[i])\n",
    "    proportions.append(same_label_count / n_neighbors)\n",
    "\n",
    "\n",
    "average_proportion = np.mean(proportions)\n",
    "print(f\"Average proportion of neighbors with the same label: {average_proportion:.4f}\")"
   ]
  },
  {
   "cell_type": "code",
   "execution_count": null,
   "id": "b7431396-163f-4237-9fc2-7f132e1d2da6",
   "metadata": {},
   "outputs": [],
   "source": [
    "A = np.zeros((number_of_parameters,2))\n",
    "A[0,0] = 1\n",
    "A[1,1] = 1\n",
    "h = 100 # <--- still need gigantic step size"
   ]
  },
  {
   "cell_type": "code",
   "execution_count": null,
   "id": "8e2796ce-800e-496a-bddd-42c1f20af77c",
   "metadata": {},
   "outputs": [],
   "source": [
    "# faster one, use of random landmarks, possibility for improvement\n",
    "\n",
    "def repulsive_force_A_with_subsample(A, n, l, a = 0.015):\n",
    "    l = np.random.choice(n, l, replace=False)\n",
    "    #rs = Y[l, :]\n",
    "    Y = vecs[l, :] @ A\n",
    "    squared_distances = pairwise_distances(Y, metric=\"euclidean\", squared=True)\n",
    "    repulsive_term = np.clip(1-a*squared_distances**(1/2),0,None)\n",
    "    np.fill_diagonal(repulsive_term, 0)\n",
    "    repulsive_sum = repulsive_term.sum()\n",
    "    distances = np.sqrt(squared_distances)\n",
    "    S2 = np.zeros_like(distances)\n",
    "    nonzero_mask = distances > 0\n",
    "    valid_mask = nonzero_mask & (distances < 1 / a)\n",
    "    S2[valid_mask] = a / distances[valid_mask] \n",
    "    #S2 *= knn_matrix\n",
    "    #repulsive_sum = 1\n",
    "    \n",
    "    grad = (2.0/repulsive_sum) * (S2 @ Y - S2.sum(axis=1).reshape(-1,1) * Y)\n",
    "    #grad = grad.ravel()\n",
    "    # can replace this multipy with n**2\n",
    "    return vecs[l, :].T@grad"
   ]
  },
  {
   "cell_type": "code",
   "execution_count": null,
   "id": "18a8db6d-8bef-4633-8eb8-350142056ae3",
   "metadata": {},
   "outputs": [],
   "source": [
    "# slower but adaptive bandwidths, should be capable of significant speedup\n",
    "\n",
    "def vectorized_binary_search_entropy(targets, low, high, Y, tol=1e-6, max_iter=100):\n",
    "    low, high = np.array(low), np.array(high)  \n",
    "    for _ in range(max_iter):\n",
    "        mid = (low + high) / 2  \n",
    "        entropy_values = entropy_Q(mid, Y) \n",
    "        errors = np.abs(entropy_values - targets) \n",
    "        mask = entropy_values > targets \n",
    "        low = np.where(mask, low, mid) \n",
    "        high = np.where(mask, mid, high) \n",
    "        if np.all(errors < tol): \n",
    "            break\n",
    "    return mid\n",
    "\n",
    "\n",
    "def entropy_Q(a, Y):\n",
    "    squared_distances = pairwise_distances(Y, metric=\"euclidean\", squared=True)\n",
    "    Q = np.clip(1 - a[:, np.newaxis] * squared_distances ** (1 / 2), 0, None)\n",
    "    np.fill_diagonal(Q, 0)\n",
    "    return np.sum(Q * np.log(1e-128 + Q), axis=1)\n",
    "\n",
    "\n",
    "def find_a(Y, neighbors):    \n",
    "    targets = -neighbors*np.ones(Y.shape[0])\n",
    "    low = np.zeros_like(targets) * 0.000001\n",
    "    high = np.ones_like(targets) * 1000\n",
    "    a = vectorized_binary_search_entropy(targets, low, high, Y)\n",
    "    \n",
    "    return a\n",
    "\n",
    "def repulsive_force_A_with_subsample_and_adapt(A, n, l, neighbors = 20):\n",
    "    l = np.random.choice(n, l, replace=False)\n",
    "    #rs = Y[l, :]\n",
    "    Y = vecs[l, :] @ A\n",
    "    a = find_a(Y, neighbors)\n",
    "    squared_distances = pairwise_distances(Y, metric=\"euclidean\", squared=True)\n",
    "    repulsive_term = np.clip(1 - a[:, np.newaxis] * squared_distances ** (1 / 2), 0, None)\n",
    "    np.fill_diagonal(repulsive_term, 0)\n",
    "    repulsive_sum = repulsive_term.sum()\n",
    "    distances = np.sqrt(squared_distances)\n",
    "    S2 = np.zeros_like(distances)\n",
    "    nonzero_mask = distances > 0\n",
    "    np.fill_diagonal(distances, 1)\n",
    "    valid_mask = nonzero_mask & (distances < 1 / a[:, np.newaxis])\n",
    "    S2[valid_mask] = (a[:, np.newaxis] / distances)[valid_mask]\n",
    "    #S2 *= knn_matrix\n",
    "    #repulsive_sum = 1\n",
    "    \n",
    "    grad = (2.0) * (S2 @ Y - S2.sum(axis=1).reshape(-1,1) * Y)\n",
    "    #grad = grad.ravel()\n",
    "    # can replace this multipy with n**2\n",
    "    return vecs[l, :].T@grad,a"
   ]
  },
  {
   "cell_type": "code",
   "execution_count": null,
   "id": "3254498c-269e-483c-8167-27b960c1af2d",
   "metadata": {},
   "outputs": [],
   "source": [
    "# iterations (maybe tricks like momentum can help)\n",
    "l = 100\n",
    "for i in range(10000):\n",
    "    A -=    300*h * np.diag(vals)@A + 10000*h*repulsive_force_A_with_subsample(A, n,l, 0.025)\n",
    "Y = vecs@A\n",
    "\n",
    "plt.figure(figsize=(12, 12))\n",
    "plt.scatter(Y[:, 0], Y[:, 1], c=y, cmap='tab10', s=20)\n",
    "plt.show()"
   ]
  },
  {
   "cell_type": "code",
   "execution_count": null,
   "id": "20081f9a-a216-4080-acc1-bad8ef82d03b",
   "metadata": {},
   "outputs": [],
   "source": []
  },
  {
   "cell_type": "code",
   "execution_count": null,
   "id": "a0a42f46-fa71-4eb0-8e25-32c83b91e7ab",
   "metadata": {},
   "outputs": [],
   "source": []
  },
  {
   "cell_type": "code",
   "execution_count": null,
   "id": "5af26eec-6e90-4187-8a14-3fca7070597f",
   "metadata": {},
   "outputs": [],
   "source": []
  }
 ],
 "metadata": {
  "kernelspec": {
   "display_name": "Python 3 (ipykernel)",
   "language": "python",
   "name": "python3"
  },
  "language_info": {
   "codemirror_mode": {
    "name": "ipython",
    "version": 3
   },
   "file_extension": ".py",
   "mimetype": "text/x-python",
   "name": "python",
   "nbconvert_exporter": "python",
   "pygments_lexer": "ipython3",
   "version": "3.9.20"
  }
 },
 "nbformat": 4,
 "nbformat_minor": 5
}
